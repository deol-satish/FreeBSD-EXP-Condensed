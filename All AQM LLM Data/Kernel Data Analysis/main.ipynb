{
 "cells": [
  {
   "cell_type": "code",
   "execution_count": 1,
   "metadata": {},
   "outputs": [],
   "source": [
    "# main.py\n",
    "from utils.data_preprocessing import fq_pie_pre_process_extract, l4s_pre_process_extract, trim_df"
   ]
  },
  {
   "cell_type": "code",
   "execution_count": 2,
   "metadata": {},
   "outputs": [],
   "source": [
    "columns_to_use = [\n",
    "    'queue_type', 'burst_allowance', 'drop_probability', 'current_queue_delay',\n",
    "    'accumulated_probability', 'average_dequeue_time', 'length_in_bytes', 'total_drops', 'packet_length'\n",
    "]"
   ]
  },
  {
   "cell_type": "code",
   "execution_count": 3,
   "metadata": {},
   "outputs": [],
   "source": [
    "def get_stats(df, column):\n",
    "    median = df[column].median()\n",
    "    mean = df[column].mean()\n",
    "    q25 = df[column].quantile(0.25)\n",
    "    q75 = df[column].quantile(0.75)\n",
    "    minimum = df[column].min()\n",
    "    maximum = df[column].max()\n",
    "\n",
    "    # Printing all the values\n",
    "    print(f\"Median: {median}\")\n",
    "    print(f\"Mean: {mean}\")\n",
    "    print(f\"25th Percentile (Q1): {q25}\")\n",
    "    print(f\"75th Percentile (Q3): {q75}\")\n",
    "    print(f\"Minimum: {minimum}\")\n",
    "    print(f\"Maximum: {maximum}\")\n"
   ]
  },
  {
   "cell_type": "code",
   "execution_count": 4,
   "metadata": {},
   "outputs": [],
   "source": [
    "fq_pie_df = fq_pie_pre_process_extract(aqm='fq_pie')\n",
    "l4s_df = l4s_pre_process_extract(aqm='l4s')"
   ]
  },
  {
   "cell_type": "code",
   "execution_count": 5,
   "metadata": {},
   "outputs": [
    {
     "name": "stdout",
     "output_type": "stream",
     "text": [
      "count     378,864.0000\n",
      "mean        6,781.0613\n",
      "std        48,232.3939\n",
      "min             0.0000\n",
      "25%             0.0000\n",
      "50%             0.0000\n",
      "75%             0.0000\n",
      "max     1,270,000.0000\n",
      "Name: current_queue_delay, dtype: float64\n",
      "queue delay mean 6781.061277925588\n"
     ]
    }
   ],
   "source": [
    "import pandas as pd\n",
    "\n",
    "# Set the display format for floating point numbers\n",
    "pd.options.display.float_format = '{:,.4f}'.format\n",
    "\n",
    "# Now display the summary statistics\n",
    "print(fq_pie_df[columns_to_use[3]].describe())\n",
    "print(\"queue delay mean\",fq_pie_df[columns_to_use[3]].mean())\n"
   ]
  },
  {
   "cell_type": "code",
   "execution_count": 6,
   "metadata": {},
   "outputs": [
    {
     "name": "stdout",
     "output_type": "stream",
     "text": [
      "count   441,914.0000\n",
      "mean      2,401.9153\n",
      "std      13,106.4607\n",
      "min           0.0000\n",
      "25%           0.0000\n",
      "50%           0.0000\n",
      "75%           0.0000\n",
      "max     600,000.0000\n",
      "Name: current_queue_delay, dtype: float64\n",
      "queue delay median 0.0\n"
     ]
    }
   ],
   "source": [
    "print(l4s_df[columns_to_use[3]].describe())\n",
    "print(\"queue delay median\",l4s_df[columns_to_use[3]].median())"
   ]
  },
  {
   "cell_type": "code",
   "execution_count": 7,
   "metadata": {},
   "outputs": [
    {
     "name": "stdout",
     "output_type": "stream",
     "text": [
      "Median: 0.0\n",
      "Mean: 6781.061277925588\n",
      "25th Percentile (Q1): 0.0\n",
      "75th Percentile (Q3): 0.0\n",
      "Minimum: 0\n",
      "Maximum: 1270000\n"
     ]
    }
   ],
   "source": [
    "get_stats(fq_pie_df, columns_to_use[3])"
   ]
  },
  {
   "cell_type": "code",
   "execution_count": 8,
   "metadata": {},
   "outputs": [
    {
     "name": "stdout",
     "output_type": "stream",
     "text": [
      "Median: 0.0\n",
      "Mean: 1868.5944799313568\n",
      "25th Percentile (Q1): 0.0\n",
      "75th Percentile (Q3): 0.0\n",
      "Minimum: 0\n",
      "Maximum: 600000\n"
     ]
    }
   ],
   "source": [
    "get_stats(l4s_df[l4s_df['queue_type'] == 0], columns_to_use[3])"
   ]
  },
  {
   "cell_type": "code",
   "execution_count": 9,
   "metadata": {},
   "outputs": [
    {
     "name": "stdout",
     "output_type": "stream",
     "text": [
      "Median: 0.0\n",
      "Mean: 4086.443453221162\n",
      "25th Percentile (Q1): 0.0\n",
      "75th Percentile (Q3): 0.0\n",
      "Minimum: 0\n",
      "Maximum: 570000\n"
     ]
    }
   ],
   "source": [
    "get_stats(l4s_df[l4s_df['queue_type'] == 1], columns_to_use[3])"
   ]
  }
 ],
 "metadata": {
  "kernelspec": {
   "display_name": "base",
   "language": "python",
   "name": "python3"
  },
  "language_info": {
   "codemirror_mode": {
    "name": "ipython",
    "version": 3
   },
   "file_extension": ".py",
   "mimetype": "text/x-python",
   "name": "python",
   "nbconvert_exporter": "python",
   "pygments_lexer": "ipython3",
   "version": "3.12.7"
  }
 },
 "nbformat": 4,
 "nbformat_minor": 2
}
